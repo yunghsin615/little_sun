{
 "cells": [
  {
   "cell_type": "code",
   "execution_count": 1,
   "metadata": {},
   "outputs": [
    {
     "data": {
      "text/plain": [
       "[3, 5, 32, 55, 244, 1000]"
      ]
     },
     "execution_count": 1,
     "metadata": {},
     "output_type": "execute_result"
    }
   ],
   "source": [
    "def quicksort(a):\n",
    "    left = []\n",
    "    right = []\n",
    "    middle = []\n",
    "    \n",
    "    if len(a)>1:\n",
    "        \n",
    "        pivot = a[0]\n",
    "        for i in a:\n",
    "            if i < pivot:\n",
    "                left.append(i)\n",
    "            elif i == pivot:\n",
    "                middle.append(i)\n",
    "            else:\n",
    "                right.append(i)\n",
    "    else:\n",
    "        return a\n",
    "\n",
    "    return quicksort(left) + middle + quicksort(right)\n",
    "\n",
    "a = [5,1000,3,55,32,244]\n",
    "quicksort(a)"
   ]
  },
  {
   "cell_type": "code",
   "execution_count": null,
   "metadata": {},
   "outputs": [],
   "source": []
  }
 ],
 "metadata": {
  "kernelspec": {
   "display_name": "Python 3",
   "language": "python",
   "name": "python3"
  },
  "language_info": {
   "codemirror_mode": {
    "name": "ipython",
    "version": 3
   },
   "file_extension": ".py",
   "mimetype": "text/x-python",
   "name": "python",
   "nbconvert_exporter": "python",
   "pygments_lexer": "ipython3",
   "version": "3.7.3"
  }
 },
 "nbformat": 4,
 "nbformat_minor": 2
}
