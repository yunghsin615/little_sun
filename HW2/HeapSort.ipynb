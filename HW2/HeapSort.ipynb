{
 "cells": [
  {
   "cell_type": "markdown",
   "metadata": {},
   "source": [
    "結果\n",
    "-\n",
    "先把最後的程式碼show出來，不然我怕我寫太亂，助教頭昏眼花(ˊ･ω･ˋ)"
   ]
  },
  {
   "cell_type": "code",
   "execution_count": 1,
   "metadata": {},
   "outputs": [
    {
     "data": {
      "text/plain": [
       "[-4, 2, 2, 3, 4, 6, 19]"
      ]
     },
     "execution_count": 1,
     "metadata": {},
     "output_type": "execute_result"
    }
   ],
   "source": [
    "class Solution(object):\n",
    "    \n",
    "    def heap_sort(self, nums):\n",
    "        size=len(nums)\n",
    "        p = (size//2)-1 #最後一個父節點的位置\n",
    "        for k in range(p,-1,-1): #遞減迴圈，中間要寫-1，才會跑到0為止\n",
    "            self.heapify(nums,k,size)\n",
    "\n",
    "        end = size-1\n",
    "        while(end > 0):\n",
    "            self.swap(nums,0, end)\n",
    "            self.heapify(nums,0,end)\n",
    "            end = end-1\n",
    "\n",
    "        return nums\n",
    "\n",
    "\n",
    "    def swap(self,array,i,j): #定義如何互換\n",
    "        array[i],array[j]= array[j],array[i]\n",
    "\n",
    "    def heapify(self,array,i,size): #定義MAX化的過程\n",
    "        MAX = i\n",
    "        L,R = i*2+1,i*2+2 #L=左節點,R=右節點\n",
    "        if L<size and array[L]>array[i]: #先找到i,L,R裡面最大的那個，然後把它放在root的位子\n",
    "            MAX = L                      #多加條件式L<size，\n",
    "\n",
    "        if R<size and array[R]>array[MAX]:\n",
    "            MAX = R\n",
    "\n",
    "        if MAX != i: #如果MAX還是=i，那就不需要swap\n",
    "            self.swap(array,i,MAX)\n",
    "            self.heapify(array,MAX,size)\n",
    "\n",
    "            \n",
    "output = Solution().heap_sort([3,2,-4,6,4,2,19])\n",
    "output"
   ]
  },
  {
   "cell_type": "markdown",
   "metadata": {},
   "source": [
    "2019/11/3<br>\n",
    "在看影片的時候覺得只要子節點比父節點大就會交換<br>\n",
    "交換這個動作很簡單，可是應該會很常用到，所以先給他一個def<br>"
   ]
  },
  {
   "cell_type": "code",
   "execution_count": 2,
   "metadata": {},
   "outputs": [],
   "source": [
    "def swap(i,j): #先定義如何互換\n",
    "    array[i],array[j]= array[j],array[i]\n",
    "\n",
    "def heapify(leaf,i): #MAX化的過程\n",
    "    top = i\n",
    "    L,R = i*2+1,i*2+2  #L=左節點,R=右節點\n",
    "    if array[L]>array[i]:  #這邊只要子節點比父節點大就直接交換\n",
    "        swap(i,L)\n",
    "        \n",
    "    if array[R]>array[i]:\n",
    "        swap(i,R)\n"
   ]
  },
  {
   "cell_type": "markdown",
   "metadata": {},
   "source": [
    "2019/11/5<br>\n",
    "後來才發現上述這樣做是沒有效率的，應該把三節點比較完，再把最大的那個放root<br>"
   ]
  },
  {
   "cell_type": "code",
   "execution_count": 3,
   "metadata": {},
   "outputs": [],
   "source": [
    "def swap(i,j): #先定義如何互換\n",
    "    array[i],array[j]= array[j],array[i]\n",
    "\n",
    "def heapify(array,i): #定義MAX化的過程\n",
    "    MAX = i\n",
    "    L,R = i*2+1,i*2+2  #L=左節點,R=右節點\n",
    "    \n",
    "    #先找到i,L,R裡面最大的那個，然後把它放在父節點的位子\n",
    "    if array[L]>array[i]:  \n",
    "        MAX = L\n",
    "        \n",
    "    if array[R]>array[MAX]:\n",
    "        MAX = R\n",
    "        \n",
    "    if MAX != i: #如果MAX還是=i，那就不需要swap\n",
    "        swap(MAX,i)\n",
    "        heapify(MAX,len(array))\n",
    "        "
   ]
  },
  {
   "cell_type": "markdown",
   "metadata": {},
   "source": [
    "由下面這個例子來看<br>\n",
    "就算把i跟j交換了，i的位置還是沒有變，不會因為交換了數字就把位置改了<br>\n",
    "i還是在0，不過這個index位置的數字從2變成3"
   ]
  },
  {
   "cell_type": "code",
   "execution_count": 4,
   "metadata": {},
   "outputs": [
    {
     "name": "stdout",
     "output_type": "stream",
     "text": [
      "[3, 2]\n"
     ]
    },
    {
     "ename": "NameError",
     "evalue": "name 'i' is not defined",
     "output_type": "error",
     "traceback": [
      "\u001b[1;31m---------------------------------------------------------------------------\u001b[0m",
      "\u001b[1;31mNameError\u001b[0m                                 Traceback (most recent call last)",
      "\u001b[1;32m<ipython-input-4-92046f89cacd>\u001b[0m in \u001b[0;36m<module>\u001b[1;34m\u001b[0m\n\u001b[0;32m      2\u001b[0m \u001b[0mswap\u001b[0m\u001b[1;33m(\u001b[0m\u001b[1;36m0\u001b[0m\u001b[1;33m,\u001b[0m\u001b[1;36m1\u001b[0m\u001b[1;33m)\u001b[0m\u001b[1;33m\u001b[0m\u001b[1;33m\u001b[0m\u001b[0m\n\u001b[0;32m      3\u001b[0m \u001b[0mprint\u001b[0m\u001b[1;33m(\u001b[0m\u001b[0marray\u001b[0m\u001b[1;33m)\u001b[0m\u001b[1;33m\u001b[0m\u001b[1;33m\u001b[0m\u001b[0m\n\u001b[1;32m----> 4\u001b[1;33m \u001b[0mprint\u001b[0m\u001b[1;33m(\u001b[0m\u001b[0mi\u001b[0m\u001b[1;33m)\u001b[0m\u001b[1;33m\u001b[0m\u001b[1;33m\u001b[0m\u001b[0m\n\u001b[0m\u001b[0;32m      5\u001b[0m \u001b[0mprint\u001b[0m\u001b[1;33m(\u001b[0m\u001b[0marray\u001b[0m\u001b[1;33m[\u001b[0m\u001b[0mi\u001b[0m\u001b[1;33m]\u001b[0m\u001b[1;33m)\u001b[0m\u001b[1;33m\u001b[0m\u001b[1;33m\u001b[0m\u001b[0m\n",
      "\u001b[1;31mNameError\u001b[0m: name 'i' is not defined"
     ]
    }
   ],
   "source": [
    "array=[2,3]\n",
    "swap(0,1)\n",
    "print(array)\n",
    "print(i)\n",
    "print(array[i])"
   ]
  },
  {
   "cell_type": "markdown",
   "metadata": {},
   "source": [
    "寫了一個迴圈從0到最後，試試看每個位置都比較過，還是一個大失敗(´༎ຶД༎ຶ )<br>"
   ]
  },
  {
   "cell_type": "code",
   "execution_count": 47,
   "metadata": {},
   "outputs": [
    {
     "ename": "IndexError",
     "evalue": "list index out of range",
     "output_type": "error",
     "traceback": [
      "\u001b[1;31m---------------------------------------------------------------------------\u001b[0m",
      "\u001b[1;31mIndexError\u001b[0m                                Traceback (most recent call last)",
      "\u001b[1;32m<ipython-input-47-ca62e161c7a8>\u001b[0m in \u001b[0;36m<module>\u001b[1;34m\u001b[0m\n\u001b[0;32m     21\u001b[0m \u001b[1;33m\u001b[0m\u001b[0m\n\u001b[0;32m     22\u001b[0m \u001b[0marr\u001b[0m\u001b[1;33m=\u001b[0m\u001b[1;33m[\u001b[0m\u001b[1;36m21\u001b[0m\u001b[1;33m,\u001b[0m\u001b[1;36m15\u001b[0m\u001b[1;33m,\u001b[0m\u001b[1;36m30\u001b[0m\u001b[1;33m,\u001b[0m\u001b[1;36m6\u001b[0m\u001b[1;33m,\u001b[0m\u001b[1;36m12\u001b[0m\u001b[1;33m,\u001b[0m\u001b[1;36m25\u001b[0m\u001b[1;33m,\u001b[0m\u001b[1;36m7\u001b[0m\u001b[1;33m,\u001b[0m\u001b[1;36m19\u001b[0m\u001b[1;33m,\u001b[0m\u001b[1;36m26\u001b[0m\u001b[1;33m]\u001b[0m\u001b[1;33m\u001b[0m\u001b[1;33m\u001b[0m\u001b[0m\n\u001b[1;32m---> 23\u001b[1;33m \u001b[0mheap_sort\u001b[0m\u001b[1;33m(\u001b[0m\u001b[0marr\u001b[0m\u001b[1;33m)\u001b[0m\u001b[1;33m\u001b[0m\u001b[1;33m\u001b[0m\u001b[0m\n\u001b[0m\u001b[0;32m     24\u001b[0m \u001b[0mprint\u001b[0m\u001b[1;33m(\u001b[0m\u001b[0marr\u001b[0m\u001b[1;33m)\u001b[0m\u001b[1;33m\u001b[0m\u001b[1;33m\u001b[0m\u001b[0m\n",
      "\u001b[1;32m<ipython-input-47-ca62e161c7a8>\u001b[0m in \u001b[0;36mheap_sort\u001b[1;34m(array)\u001b[0m\n\u001b[0;32m      1\u001b[0m \u001b[1;32mdef\u001b[0m \u001b[0mheap_sort\u001b[0m\u001b[1;33m(\u001b[0m\u001b[0marray\u001b[0m\u001b[1;33m)\u001b[0m\u001b[1;33m:\u001b[0m\u001b[1;33m\u001b[0m\u001b[1;33m\u001b[0m\u001b[0m\n\u001b[0;32m      2\u001b[0m     \u001b[1;32mfor\u001b[0m \u001b[0mk\u001b[0m \u001b[1;32min\u001b[0m \u001b[0mrange\u001b[0m\u001b[1;33m(\u001b[0m\u001b[1;36m0\u001b[0m\u001b[1;33m,\u001b[0m\u001b[0mlen\u001b[0m\u001b[1;33m(\u001b[0m\u001b[0marray\u001b[0m\u001b[1;33m)\u001b[0m\u001b[1;33m)\u001b[0m\u001b[1;33m:\u001b[0m\u001b[1;33m\u001b[0m\u001b[1;33m\u001b[0m\u001b[0m\n\u001b[1;32m----> 3\u001b[1;33m         \u001b[0mheapify\u001b[0m\u001b[1;33m(\u001b[0m\u001b[0marray\u001b[0m\u001b[1;33m,\u001b[0m\u001b[0mk\u001b[0m\u001b[1;33m)\u001b[0m\u001b[1;33m\u001b[0m\u001b[1;33m\u001b[0m\u001b[0m\n\u001b[0m\u001b[0;32m      4\u001b[0m \u001b[1;33m\u001b[0m\u001b[0m\n\u001b[0;32m      5\u001b[0m \u001b[1;32mdef\u001b[0m \u001b[0mswap\u001b[0m\u001b[1;33m(\u001b[0m\u001b[0mi\u001b[0m\u001b[1;33m,\u001b[0m\u001b[0mj\u001b[0m\u001b[1;33m)\u001b[0m\u001b[1;33m:\u001b[0m \u001b[1;31m#先定義如何互換\u001b[0m\u001b[1;33m\u001b[0m\u001b[1;33m\u001b[0m\u001b[0m\n",
      "\u001b[1;32m<ipython-input-47-ca62e161c7a8>\u001b[0m in \u001b[0;36mheapify\u001b[1;34m(array, i)\u001b[0m\n\u001b[0;32m     16\u001b[0m \u001b[1;33m\u001b[0m\u001b[0m\n\u001b[0;32m     17\u001b[0m     \u001b[1;32mif\u001b[0m \u001b[0mMAX\u001b[0m \u001b[1;33m!=\u001b[0m \u001b[0mi\u001b[0m\u001b[1;33m:\u001b[0m \u001b[1;31m#如果MAX還是=i，那就不需要swap\u001b[0m\u001b[1;33m\u001b[0m\u001b[1;33m\u001b[0m\u001b[0m\n\u001b[1;32m---> 18\u001b[1;33m         \u001b[0mswap\u001b[0m\u001b[1;33m(\u001b[0m\u001b[0mMAX\u001b[0m\u001b[1;33m,\u001b[0m\u001b[0mi\u001b[0m\u001b[1;33m)\u001b[0m\u001b[1;33m\u001b[0m\u001b[1;33m\u001b[0m\u001b[0m\n\u001b[0m\u001b[0;32m     19\u001b[0m         \u001b[0mheapify\u001b[0m\u001b[1;33m(\u001b[0m\u001b[0marray\u001b[0m\u001b[1;33m,\u001b[0m\u001b[0mMAX\u001b[0m\u001b[1;33m)\u001b[0m\u001b[1;33m\u001b[0m\u001b[1;33m\u001b[0m\u001b[0m\n\u001b[0;32m     20\u001b[0m \u001b[1;33m\u001b[0m\u001b[0m\n",
      "\u001b[1;32m<ipython-input-47-ca62e161c7a8>\u001b[0m in \u001b[0;36mswap\u001b[1;34m(i, j)\u001b[0m\n\u001b[0;32m      4\u001b[0m \u001b[1;33m\u001b[0m\u001b[0m\n\u001b[0;32m      5\u001b[0m \u001b[1;32mdef\u001b[0m \u001b[0mswap\u001b[0m\u001b[1;33m(\u001b[0m\u001b[0mi\u001b[0m\u001b[1;33m,\u001b[0m\u001b[0mj\u001b[0m\u001b[1;33m)\u001b[0m\u001b[1;33m:\u001b[0m \u001b[1;31m#先定義如何互換\u001b[0m\u001b[1;33m\u001b[0m\u001b[1;33m\u001b[0m\u001b[0m\n\u001b[1;32m----> 6\u001b[1;33m     \u001b[0marray\u001b[0m\u001b[1;33m[\u001b[0m\u001b[0mi\u001b[0m\u001b[1;33m]\u001b[0m\u001b[1;33m,\u001b[0m\u001b[0marray\u001b[0m\u001b[1;33m[\u001b[0m\u001b[0mj\u001b[0m\u001b[1;33m]\u001b[0m\u001b[1;33m=\u001b[0m \u001b[0marray\u001b[0m\u001b[1;33m[\u001b[0m\u001b[0mj\u001b[0m\u001b[1;33m]\u001b[0m\u001b[1;33m,\u001b[0m\u001b[0marray\u001b[0m\u001b[1;33m[\u001b[0m\u001b[0mi\u001b[0m\u001b[1;33m]\u001b[0m\u001b[1;33m\u001b[0m\u001b[1;33m\u001b[0m\u001b[0m\n\u001b[0m\u001b[0;32m      7\u001b[0m \u001b[1;33m\u001b[0m\u001b[0m\n\u001b[0;32m      8\u001b[0m \u001b[1;32mdef\u001b[0m \u001b[0mheapify\u001b[0m\u001b[1;33m(\u001b[0m\u001b[0marray\u001b[0m\u001b[1;33m,\u001b[0m\u001b[0mi\u001b[0m\u001b[1;33m)\u001b[0m\u001b[1;33m:\u001b[0m \u001b[1;31m#定義MAX化的過程\u001b[0m\u001b[1;33m\u001b[0m\u001b[1;33m\u001b[0m\u001b[0m\n",
      "\u001b[1;31mIndexError\u001b[0m: list index out of range"
     ]
    }
   ],
   "source": [
    "def heap_sort(array):  \n",
    "    for k in range(0,len(array)):\n",
    "        heapify(array,k)\n",
    "\n",
    "def swap(i,j): #先定義如何互換\n",
    "    array[i],array[j]= array[j],array[i]\n",
    "\n",
    "def heapify(array,i): #定義MAX化的過程\n",
    "    MAX = i\n",
    "    L,R = i*2+1,i*2+2 #L=左節點,R=右節點\n",
    "    if array[L]>array[i]: #先找到i,L,R裡面最大的那個，然後把它放在root的位子\n",
    "        MAX = L\n",
    "\n",
    "    if array[R]>array[MAX]:\n",
    "        MAX = R\n",
    "\n",
    "    if MAX != i: #如果MAX還是=i，那就不需要swap\n",
    "        swap(MAX,i)\n",
    "        heapify(array,MAX)\n",
    "\n",
    "    \n",
    "arr=[21,15,30,6,12,25,7,19,26]\n",
    "heap_sort(arr)\n",
    "print(arr)"
   ]
  },
  {
   "cell_type": "markdown",
   "metadata": {},
   "source": [
    "2019/11/6<br>\n",
    "看了一個影片的解釋後，還是不知如何寫下程式碼，就查了他的<br>\n",
    "ref = https://github.com/minsuk-heo/problemsolving/blob/master/sort/HeapSort.py<br>"
   ]
  },
  {
   "cell_type": "code",
   "execution_count": 4,
   "metadata": {},
   "outputs": [
    {
     "ename": "IndexError",
     "evalue": "list index out of range",
     "output_type": "error",
     "traceback": [
      "\u001b[1;31m---------------------------------------------------------------------------\u001b[0m",
      "\u001b[1;31mIndexError\u001b[0m                                Traceback (most recent call last)",
      "\u001b[1;32m<ipython-input-4-fff5c9ee5928>\u001b[0m in \u001b[0;36m<module>\u001b[1;34m\u001b[0m\n\u001b[0;32m     36\u001b[0m \u001b[1;33m\u001b[0m\u001b[0m\n\u001b[0;32m     37\u001b[0m \u001b[0marr\u001b[0m\u001b[1;33m=\u001b[0m\u001b[1;33m[\u001b[0m\u001b[1;36m2\u001b[0m\u001b[1;33m,\u001b[0m\u001b[1;36m5\u001b[0m\u001b[1;33m,\u001b[0m\u001b[1;36m1\u001b[0m\u001b[1;33m,\u001b[0m\u001b[1;36m4\u001b[0m\u001b[1;33m]\u001b[0m\u001b[1;33m\u001b[0m\u001b[1;33m\u001b[0m\u001b[0m\n\u001b[1;32m---> 38\u001b[1;33m \u001b[0mheap_sort\u001b[0m\u001b[1;33m(\u001b[0m\u001b[0marr\u001b[0m\u001b[1;33m)\u001b[0m\u001b[1;33m\u001b[0m\u001b[1;33m\u001b[0m\u001b[0m\n\u001b[0m",
      "\u001b[1;32m<ipython-input-4-fff5c9ee5928>\u001b[0m in \u001b[0;36mheap_sort\u001b[1;34m(array)\u001b[0m\n\u001b[0;32m      4\u001b[0m     \u001b[0mp\u001b[0m \u001b[1;33m=\u001b[0m \u001b[1;33m(\u001b[0m\u001b[0msize\u001b[0m\u001b[1;33m//\u001b[0m\u001b[1;36m2\u001b[0m\u001b[1;33m)\u001b[0m\u001b[1;33m-\u001b[0m\u001b[1;36m1\u001b[0m \u001b[1;31m#這個很重要，p是最後一個父節點的位置\u001b[0m\u001b[1;33m\u001b[0m\u001b[1;33m\u001b[0m\u001b[0m\n\u001b[0;32m      5\u001b[0m     \u001b[1;32mfor\u001b[0m \u001b[0mk\u001b[0m \u001b[1;32min\u001b[0m \u001b[0mrange\u001b[0m\u001b[1;33m(\u001b[0m\u001b[0mp\u001b[0m\u001b[1;33m,\u001b[0m\u001b[1;36m0\u001b[0m\u001b[1;33m,\u001b[0m\u001b[1;33m-\u001b[0m\u001b[1;36m1\u001b[0m\u001b[1;33m)\u001b[0m\u001b[1;33m:\u001b[0m \u001b[1;31m#遞減迴圈\u001b[0m\u001b[1;33m\u001b[0m\u001b[1;33m\u001b[0m\u001b[0m\n\u001b[1;32m----> 6\u001b[1;33m         \u001b[0mheapify\u001b[0m\u001b[1;33m(\u001b[0m\u001b[0marray\u001b[0m\u001b[1;33m,\u001b[0m \u001b[0mk\u001b[0m\u001b[1;33m,\u001b[0m\u001b[0msize\u001b[0m\u001b[1;33m)\u001b[0m\u001b[1;33m\u001b[0m\u001b[1;33m\u001b[0m\u001b[0m\n\u001b[0m\u001b[0;32m      7\u001b[0m \u001b[1;33m\u001b[0m\u001b[0m\n\u001b[0;32m      8\u001b[0m     \u001b[1;31m#下面這段是\u001b[0m\u001b[1;33m\u001b[0m\u001b[1;33m\u001b[0m\u001b[1;33m\u001b[0m\u001b[0m\n",
      "\u001b[1;32m<ipython-input-4-fff5c9ee5928>\u001b[0m in \u001b[0;36mheapify\u001b[1;34m(array, i, size)\u001b[0m\n\u001b[0;32m     26\u001b[0m         \u001b[0mMAX\u001b[0m \u001b[1;33m=\u001b[0m \u001b[0mL\u001b[0m\u001b[1;33m\u001b[0m\u001b[1;33m\u001b[0m\u001b[0m\n\u001b[0;32m     27\u001b[0m \u001b[1;33m\u001b[0m\u001b[0m\n\u001b[1;32m---> 28\u001b[1;33m     \u001b[1;32mif\u001b[0m \u001b[0marray\u001b[0m\u001b[1;33m[\u001b[0m\u001b[0mR\u001b[0m\u001b[1;33m]\u001b[0m\u001b[1;33m>\u001b[0m\u001b[0marray\u001b[0m\u001b[1;33m[\u001b[0m\u001b[0mMAX\u001b[0m\u001b[1;33m]\u001b[0m\u001b[1;33m:\u001b[0m\u001b[1;33m\u001b[0m\u001b[1;33m\u001b[0m\u001b[0m\n\u001b[0m\u001b[0;32m     29\u001b[0m         \u001b[0mMAX\u001b[0m \u001b[1;33m=\u001b[0m \u001b[0mR\u001b[0m\u001b[1;33m\u001b[0m\u001b[1;33m\u001b[0m\u001b[0m\n\u001b[0;32m     30\u001b[0m \u001b[1;33m\u001b[0m\u001b[0m\n",
      "\u001b[1;31mIndexError\u001b[0m: list index out of range"
     ]
    }
   ],
   "source": [
    "def heap_sort(array):\n",
    "    \n",
    "    size=len(array)\n",
    "    p = (size//2)-1 #這個很重要，p是最後一個父節點的位置\n",
    "    for k in range(p,0,-1): #遞減迴圈\n",
    "        heapify(array, k,size)\n",
    "        \n",
    "    #下面這段是    \n",
    "    end = size-1\n",
    "    while(end > 0):\n",
    "        swap(array,0, end)\n",
    "        heapify(array,0,end)\n",
    "        end = end-1\n",
    "\n",
    "    return array\n",
    "    \n",
    "def swap(array,i,j): #定義如何互換\n",
    "    array[i],array[j]= array[j],array[i]\n",
    "\n",
    "def heapify(array,i,size): #定義MAX化的過程\n",
    "    MAX = i\n",
    "    L,R = i*2+1,i*2+2 #L=左節點,R=右節點\n",
    "    \n",
    "    #先找到i,L,R裡面最大的那個，然後把它放在root的位子\n",
    "    if array[L]>array[i]: \n",
    "        MAX = L                      \n",
    "\n",
    "    if array[R]>array[MAX]:\n",
    "        MAX = R\n",
    "\n",
    "    if MAX != i: #如果MAX還是=i，那就不需要swap\n",
    "        swap(array,i,MAX)\n",
    "        heapify(array,MAX,size)\n",
    "        \n",
    "  \n",
    "       \n",
    "arr=[2,5,1,4]\n",
    "heap_sort(arr)"
   ]
  },
  {
   "cell_type": "code",
   "execution_count": 3,
   "metadata": {},
   "outputs": [
    {
     "data": {
      "text/plain": [
       "[6, 7, 12, 15, 19, 21, 25, 26, 30]"
      ]
     },
     "execution_count": 3,
     "metadata": {},
     "output_type": "execute_result"
    }
   ],
   "source": [
    "def heap_sort(array):\n",
    "    \n",
    "    size=len(array)\n",
    "    p = (size//2)-1 #這個很重要，p是最後一個父節點的位置\n",
    "    for k in range(p,-1,-1): #遞減迴圈，中間要寫-1，才會跑到0為止\n",
    "        heapify(array,k,size)\n",
    "        \n",
    "    end = size-1\n",
    "    while(end > 0):\n",
    "        swap(array,0, end)\n",
    "        heapify(array,0,end)\n",
    "        end = end-1\n",
    "\n",
    "    return array\n",
    "    \n",
    "def swap(array,i,j): #定義如何互換\n",
    "    array[i],array[j]= array[j],array[i]\n",
    "\n",
    "def heapify(array,i,size): #定義MAX化的過程\n",
    "    MAX = i\n",
    "    L,R = i*2+1,i*2+2 #L=左節點,R=右節點\n",
    "    if L<size and array[L]>array[i]: #先找到i,L,R裡面最大的那個，然後把它放在root的位子\n",
    "        MAX = L                      ##多加條件式L<size，\n",
    "\n",
    "    if R<size and array[R]>array[MAX]:\n",
    "        MAX = R                      ##多加條件式R<size\n",
    "\n",
    "    if MAX != i: #如果MAX還是=i，那就不需要swap\n",
    "        swap(array,i,MAX)\n",
    "        heapify(array,MAX,size)\n",
    "\n",
    "\n",
    "    \n",
    "        \n",
    "arr=[21,15,30,6,12,25,7,19,26]\n",
    "heap_sort(arr)"
   ]
  },
  {
   "cell_type": "markdown",
   "metadata": {},
   "source": [
    "以下是套入助教規定的格式中:)<br>"
   ]
  },
  {
   "cell_type": "code",
   "execution_count": 1,
   "metadata": {},
   "outputs": [
    {
     "data": {
      "text/plain": [
       "[-4, 2, 2, 3, 4, 6, 19]"
      ]
     },
     "execution_count": 1,
     "metadata": {},
     "output_type": "execute_result"
    }
   ],
   "source": [
    "class Solution(object):\n",
    "    def heap_sort(self, nums):\n",
    "\n",
    "        size=len(nums)\n",
    "        p = (size//2)-1\n",
    "        for k in range(p,-1,-1): #遞減迴圈，中間要寫-1，才會跑到0為止\n",
    "            self.heapify(nums,k,size)\n",
    "\n",
    "        end = size-1\n",
    "        while(end > 0):\n",
    "            self.swap(nums,0, end)\n",
    "            self.heapify(nums,0,end)\n",
    "            end = end-1\n",
    "\n",
    "        return nums\n",
    "\n",
    "\n",
    "    def swap(self,array,i,j): #定義如何互換\n",
    "        array[i],array[j]= array[j],array[i]\n",
    "\n",
    "    def heapify(self,array,i,size): #定義MAX化的過程\n",
    "        MAX = i\n",
    "        L,R = i*2+1,i*2+2 #L=左節點,R=右節點\n",
    "        if L<size and array[L]>array[i]: #先找到i,L,R裡面最大的那個，然後把它放在root的位子\n",
    "            MAX = L                      #多加條件式L<size，\n",
    "\n",
    "        if R<size and array[R]>array[MAX]:\n",
    "            MAX = R\n",
    "\n",
    "        if MAX != i: #如果MAX還是=i，那就不需要swap\n",
    "            self.swap(array,i,MAX)\n",
    "            self.heapify(array,MAX,size)\n",
    "\n",
    "            \n",
    "output = Solution().heap_sort([3,2,-4,6,4,2,19])\n",
    "output"
   ]
  },
  {
   "cell_type": "markdown",
   "metadata": {},
   "source": [
    "![title](img/Heapify.png)"
   ]
  }
 ],
 "metadata": {
  "kernelspec": {
   "display_name": "Python 3",
   "language": "python",
   "name": "python3"
  },
  "language_info": {
   "codemirror_mode": {
    "name": "ipython",
    "version": 3
   },
   "file_extension": ".py",
   "mimetype": "text/x-python",
   "name": "python",
   "nbconvert_exporter": "python",
   "pygments_lexer": "ipython3",
   "version": "3.7.1"
  }
 },
 "nbformat": 4,
 "nbformat_minor": 2
}
