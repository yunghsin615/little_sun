{
 "cells": [
  {
   "cell_type": "code",
   "execution_count": 1,
   "metadata": {},
   "outputs": [
    {
     "data": {
      "text/plain": [
       "[3, 5, 32, 55, 244, 1000]"
      ]
     },
     "execution_count": 1,
     "metadata": {},
     "output_type": "execute_result"
    }
   ],
   "source": [
    "def quicksort(a):\n",
    "    left = []\n",
    "    right = []\n",
    "    middle = []\n",
    "    #一開始沒有想到把這個if條件句加上去\n",
    "    if len(a)>1:\n",
    "        \n",
    "        pivot = a[0] #把第0個位置設為基準點\n",
    "        for i in a:\n",
    "            if i < pivot: #小於基準點放左邊\n",
    "                left.append(i)\n",
    "            elif i == pivot: #等於基準點放中間\n",
    "                middle.append(i)\n",
    "            else: #大於基準點放右邊\n",
    "                right.append(i)\n",
    "    else: #對上第一個if\n",
    "        return a\n",
    "    #left和right還要再繼續quick_sort，不然就只有做一層而已\n",
    "    return quicksort(left) + middle + quicksort(right)\n",
    "\n",
    "a = [5,1000,3,55,32,244]\n",
    "quicksort(a)"
   ]
  }
 ],
 "metadata": {
  "kernelspec": {
   "display_name": "Python 3",
   "language": "python",
   "name": "python3"
  },
  "language_info": {
   "codemirror_mode": {
    "name": "ipython",
    "version": 3
   },
   "file_extension": ".py",
   "mimetype": "text/x-python",
   "name": "python",
   "nbconvert_exporter": "python",
   "pygments_lexer": "ipython3",
   "version": "3.7.1"
  }
 },
 "nbformat": 4,
 "nbformat_minor": 2
}
