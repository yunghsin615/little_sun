{
 "cells": [
  {
   "cell_type": "markdown",
   "metadata": {},
   "source": [
    "圖(graph)是由節點(node)和邊(edge)組合而成的非線性結構"
   ]
  },
  {
   "cell_type": "markdown",
   "metadata": {},
   "source": [
    "BFS廣度優先搜尋\n",
    "=\n",
    "首先會有Adjacency List，就是把每個點的臨邊點都標示出來<br>\n",
    "我們的initial狀態是self.graph = defaultdict(list)，意思是我們後來的self.graph[u]是list的狀態<br>\n",
    "後面就可以直接用append(v)的方式加入，u是各個點，v是u的每個臨邊點<br>\n",
    "BFS是用之前老師上課教得queue的方式，**先進先出**的一個概念<br>\n",
    "所以每個臨邊點放在status1的時候，順序還是從第0位(status[0])開始走訪<br>\n",
    "每走訪一個點(u)，就再把沒有被走訪過的臨邊點(v)加進status1，有個原則是status1和status2的值不能重複<br>\n",
    "就這樣到迴圈結束<br>"
   ]
  },
  {
   "cell_type": "markdown",
   "metadata": {},
   "source": [
    "DFS深度優先搜尋\n",
    "=\n",
    "首先會有Adjacency List，把每個點的臨邊點都標示出來<br>\n",
    "DFS是用以前老師教得stack的方式，**後進先出**的一個概念<br>\n",
    "臨邊點放進status1的順序還是照Adjacency List，但是是從最後一位(status1[-1])開始<br>\n",
    "每走訪一個點(u)，就再把沒有被走訪過的臨邊點(v)加進status1，原則是status1和status2的值不能重複<br>\n",
    "把每個點的臨邊點push進status1時，就要pop一個出來(status1[-1])，直到迴圈結束<br>\n"
   ]
  },
  {
   "cell_type": "markdown",
   "metadata": {},
   "source": [
    "BFS & DFS的比較\n",
    "=\n",
    "![](https://i.imgur.com/vFw57lw.jpg)\n",
    "BFS = 1->2->3->4->5->6->8->7<br>\n",
    "廣度優先，起點的每個點都走訪一次，再換起點繼續走訪<br>\n",
    "時間複雜度為O(V+E)，空間複雜度為O(V)，V為圖的頂點數，E為邊數<br>\n",
    "優點:找出目標最小的步驟，會方便許多<br>\n",
    "缺點:占用記憶體太多，沒有目標式地搜尋<br>\n",
    "DFS = 1->2->4->5->8->3->6->7<br>\n",
    "深度優先，一直往深處走，直到沒路，才往回找分岔點<br>\n",
    "時間複雜度為O(V+E)，空間複雜度為O(V)，V為圖的頂點數，E為邊數<br>\n",
    "優點:對於深度低的狀態空間來說，不但相當簡潔，所占用的空間記憶體也較少，執行上的效率也跟著快<br>\n",
    "缺點:如果深度過深的話，對電腦的負荷也相當的大。<br>\n",
    "<br>\n",
    "總結\n",
    "-\n",
    "不同問題適合不同的解決辦法<br>\n",
    "BFS適合應用在最短路徑的問題，DFS則適合應用在最大路徑的問題<br>"
   ]
  },
  {
   "cell_type": "code",
   "execution_count": 1,
   "metadata": {},
   "outputs": [],
   "source": [
    "# 12/9\n",
    "from collections import defaultdict \n",
    "\n",
    "class Graph:\n",
    "\n",
    "    def __init__(self): \n",
    "\n",
    "        self.graph = defaultdict(list) \n",
    " \n",
    "    def addEdge(self,u,v): \n",
    "        self.graph[u].append(v)\n",
    "  \n",
    "    def BFS(self, s): \n",
    "        \n",
    "        status1 = []\n",
    "        status2 = []\n",
    "        for i in range(0,len(self.graph[s])):\n",
    "            if self.graph[s][i] != None:\n",
    "                status1.append(self.graph[s][i])\n",
    "                status2.append(s) #這樣會在status2加很多次s\n",
    "        return status1\n"
   ]
  },
  {
   "cell_type": "code",
   "execution_count": 3,
   "metadata": {},
   "outputs": [],
   "source": [
    "#12/10\n",
    "from collections import defaultdict \n",
    "\n",
    "class Graph:\n",
    " \n",
    "    def __init__(self): \n",
    "        self.graph = defaultdict(list) \n",
    "\n",
    "    def addEdge(self,u,v): \n",
    "        self.graph[u].append(v)\n",
    " \n",
    "    def BFS(self, s): \n",
    "        status1 = []\n",
    "        status2 = []\n",
    "        i = 0\n",
    "        \n",
    "        if status2 == None:\n",
    "            status2.append(s)\n",
    "            status1.append(\"F\") #因為想要迴圈是當status1有東西的時候，所以先隨便加一個\n",
    "        \n",
    "        while status1 != None: #!!!後面發現這個寫法不行!!!要用while len(status1) > 0:\n",
    "            while i < len(self.graph[s]):\n",
    "                if self.graph[s][i] != None:\n",
    "                    status1.append(self.graph[s][i])\n",
    "                    i += 1\n",
    "                    status1.remove(\"F\") #因為已經進來迴圈內，所以就可以刪除，\n",
    "                    #但如果第二次沒找到\"F\"就會error\n",
    "            status2.append(status1[0])\n",
    "            status1.remove(status1[0])\n"
   ]
  },
  {
   "cell_type": "code",
   "execution_count": 5,
   "metadata": {},
   "outputs": [],
   "source": [
    "#12/11 BFS成功版\n",
    "from collections import defaultdict \n",
    "\n",
    "class Graph:\n",
    " \n",
    "    def __init__(self): \n",
    "        self.graph = defaultdict(list) \n",
    "\n",
    "    def addEdge(self,u,v): \n",
    "        self.graph[u].append(v)\n",
    " \n",
    "    def BFS(self, s): \n",
    "        status1 = []\n",
    "        status2 = []\n",
    "        \n",
    "        #解決12/9的問題，第一個s只會加一次\n",
    "        status2.append(s)\n",
    "        #這邊跟前面觀念一樣，只是不隨便加，而是把s的臨邊點加進status1\n",
    "        i = 0    \n",
    "        while i < len(self.graph[s]):\n",
    "            if self.graph[s][i] != None:\n",
    "                status1.append(self.graph[s][i])\n",
    "                i += 1\n",
    "        s = status1[0] #s這時換人了\n",
    "                    \n",
    "        while len(status1) > 0: #進迴圈後就等status1走訪完，迴圈結束\n",
    "            for i in self.graph[s]: #沒有重複的才加進status1\n",
    "                if i not in status1 and i not in status2:\n",
    "                    status1.append(i)\n",
    "                    \n",
    "                elif i not in status1:\n",
    "                    continue\n",
    "                \n",
    "                elif i not in status2:\n",
    "                    continue\n",
    "                \n",
    "            status2.append(status1[0])\n",
    "            status1.remove(status1[0])   \n",
    "            if status1:\n",
    "                s = status1[0]\n",
    "                \n",
    "        return status2"
   ]
  },
  {
   "cell_type": "code",
   "execution_count": 1,
   "metadata": {},
   "outputs": [],
   "source": [
    "#12/12 DFS失敗版，結果錯了順序，所以是先後順序的邏輯沒有搞清楚\n",
    "from collections import defaultdict \n",
    "\n",
    "class Graph:\n",
    " \n",
    "    def __init__(self): \n",
    "        self.graph = defaultdict(list) \n",
    "\n",
    "    def addEdge(self,u,v): \n",
    "        self.graph[u].append(v)\n",
    " \n",
    "    def DFS(self, s):\n",
    "        status1 = []\n",
    "        status2 = []\n",
    "        \n",
    "        status2.append(s)\n",
    "        i = 0    \n",
    "        while i < len(self.graph[s]):\n",
    "            if self.graph[s][i] != None:\n",
    "                status1.append(self.graph[s][i])\n",
    "                i += 1\n",
    "        s = status1[-1]\n",
    "                    \n",
    "        while len(status1) > 0:\n",
    "            for i in self.graph[s]:\n",
    "                if i not in status1 and i not in status2:\n",
    "                    status1.append(i)\n",
    "                    \n",
    "                elif i not in status1:\n",
    "                    continue\n",
    "                \n",
    "                elif i not in status2:\n",
    "                    continue\n",
    "                \n",
    "            s = status1.pop(-1) \n",
    "            status2.append(s)\n",
    "            if status1:\n",
    "                s = status1[-1]\n",
    "                \n",
    "        return status2"
   ]
  },
  {
   "cell_type": "code",
   "execution_count": 2,
   "metadata": {},
   "outputs": [
    {
     "name": "stdout",
     "output_type": "stream",
     "text": [
      "[2, 3, 1, 0]\n"
     ]
    }
   ],
   "source": [
    "g = Graph()\n",
    "g.addEdge(0,1)\n",
    "g.addEdge(0,2)\n",
    "g.addEdge(1,2)\n",
    "g.addEdge(2,0)\n",
    "g.addEdge(2,3)\n",
    "g.addEdge(3,3)\n",
    "\n",
    "#print(g.BFS(2)) #[2,0,3,1]\n",
    "print(g.DFS(2)) #[2,3,0,1]"
   ]
  },
  {
   "cell_type": "code",
   "execution_count": 4,
   "metadata": {},
   "outputs": [],
   "source": [
    "#12/12 DFS成功版\n",
    "from collections import defaultdict \n",
    "\n",
    "class Graph:\n",
    " \n",
    "    def __init__(self): \n",
    "        self.graph = defaultdict(list) \n",
    "\n",
    "    def addEdge(self,u,v): \n",
    "        self.graph[u].append(v)\n",
    "    \n",
    "    def DFS(self, s):\n",
    "        status1 = []\n",
    "        status2 = []\n",
    "        \n",
    "        status2.append(s)\n",
    "        i = 0    \n",
    "        while i < len(self.graph[s]):\n",
    "            if self.graph[s][i] != None:\n",
    "                status1.append(self.graph[s][i])\n",
    "                i += 1\n",
    "        s = status1[-1]\n",
    "                    \n",
    "        while len(status1) > 0:\n",
    "            s = status1.pop(-1) \n",
    "            status2.append(s)\n",
    "            for i in self.graph[s]:\n",
    "                if i not in status1 and i not in status2:\n",
    "                    status1.append(i)\n",
    "                    \n",
    "                elif i not in status1 or i not in status2:\n",
    "                    continue\n",
    "                            \n",
    "            if status1:\n",
    "                s = status1[-1]\n",
    "                \n",
    "        return status2"
   ]
  },
  {
   "cell_type": "code",
   "execution_count": 5,
   "metadata": {},
   "outputs": [
    {
     "name": "stdout",
     "output_type": "stream",
     "text": [
      "[2, 3, 0, 1]\n"
     ]
    }
   ],
   "source": [
    "g = Graph()\n",
    "g.addEdge(0,1)\n",
    "g.addEdge(0,2)\n",
    "g.addEdge(1,2)\n",
    "g.addEdge(2,0)\n",
    "g.addEdge(2,3)\n",
    "g.addEdge(3,3)\n",
    "\n",
    "#print(g.BFS(2)) #[2,0,3,1]\n",
    "print(g.DFS(2)) #[2,3,0,1]"
   ]
  },
  {
   "cell_type": "code",
   "execution_count": 6,
   "metadata": {},
   "outputs": [],
   "source": [
    "#12/12 最終成功版\n",
    "from collections import defaultdict \n",
    "\n",
    "class Graph:\n",
    " \n",
    "    def __init__(self): \n",
    "        self.graph = defaultdict(list) \n",
    "\n",
    "    def addEdge(self,u,v): \n",
    "        self.graph[u].append(v)\n",
    " \n",
    "    def BFS(self, s): \n",
    "        status1 = []\n",
    "        status2 = []\n",
    "        \n",
    "        status2.append(s)\n",
    "        i = 0    \n",
    "        while i < len(self.graph[s]):\n",
    "            if self.graph[s][i] != None:\n",
    "                status1.append(self.graph[s][i])\n",
    "                i += 1\n",
    "        s = status1[0]\n",
    "                    \n",
    "        while len(status1) > 0:\n",
    "            for i in self.graph[s]:\n",
    "                if i not in status1 and i not in status2:\n",
    "                    status1.append(i)\n",
    "                    \n",
    "                elif i not in status1 or i not in status2:\n",
    "                    continue\n",
    "                \n",
    "            status2.append(status1[0])\n",
    "            status1.remove(status1[0])   \n",
    "            if status1:\n",
    "                s = status1[0]\n",
    "                \n",
    "        return status2\n",
    "    \n",
    "    def DFS(self, s):\n",
    "        status1 = []\n",
    "        status2 = []\n",
    "        \n",
    "        status2.append(s)\n",
    "        i = 0    \n",
    "        while i < len(self.graph[s]):\n",
    "            if self.graph[s][i] != None:\n",
    "                status1.append(self.graph[s][i])\n",
    "                i += 1\n",
    "        s = status1[-1]\n",
    "                    \n",
    "        while len(status1) > 0:\n",
    "            s = status1.pop(-1) \n",
    "            status2.append(s)\n",
    "            for i in self.graph[s]:\n",
    "                if i not in status1 and i not in status2:\n",
    "                    status1.append(i)\n",
    "                    \n",
    "                elif i not in status1 or i not in status2:\n",
    "                    continue\n",
    "                            \n",
    "            if status1:\n",
    "                s = status1[-1]\n",
    "                \n",
    "        return status2"
   ]
  },
  {
   "cell_type": "code",
   "execution_count": 7,
   "metadata": {},
   "outputs": [
    {
     "name": "stdout",
     "output_type": "stream",
     "text": [
      "[2, 0, 3, 1]\n",
      "[2, 3, 0, 1]\n"
     ]
    }
   ],
   "source": [
    "g = Graph()\n",
    "g.addEdge(0,1)\n",
    "g.addEdge(0,2)\n",
    "g.addEdge(1,2)\n",
    "g.addEdge(2,0)\n",
    "g.addEdge(2,3)\n",
    "g.addEdge(3,3)\n",
    "\n",
    "print(g.BFS(2)) #[2,0,3,1]\n",
    "print(g.DFS(2)) #[2,3,0,1]"
   ]
  },
  {
   "cell_type": "code",
   "execution_count": 8,
   "metadata": {},
   "outputs": [
    {
     "name": "stdout",
     "output_type": "stream",
     "text": [
      "[1, 3, 5, 2, 6, 7, 8]\n",
      "[1, 5, 7, 2, 3, 6, 8]\n"
     ]
    }
   ],
   "source": [
    "g = Graph()\n",
    "g.addEdge(1,3)\n",
    "g.addEdge(1,5)\n",
    "g.addEdge(2,7)\n",
    "g.addEdge(3,5)\n",
    "g.addEdge(3,2)\n",
    "g.addEdge(3,6)\n",
    "g.addEdge(5,2)\n",
    "g.addEdge(5,7)\n",
    "g.addEdge(6,2)\n",
    "g.addEdge(6,8)\n",
    "g.addEdge(7,7)\n",
    "g.addEdge(8,8)\n",
    "\n",
    "print(g.BFS(1)) #[1,3,5,2,6,7,8]\n",
    "print(g.DFS(1)) #[1,5,7,2,3,6,8]"
   ]
  },
  {
   "cell_type": "code",
   "execution_count": 9,
   "metadata": {},
   "outputs": [
    {
     "name": "stdout",
     "output_type": "stream",
     "text": [
      "[0, 1, 3, 4, 5, 2]\n"
     ]
    }
   ],
   "source": [
    "g = Graph()\n",
    "g.addEdge(0,2)\n",
    "g.addEdge(0,1)\n",
    "g.addEdge(1,2)\n",
    "g.addEdge(1,3)\n",
    "g.addEdge(2,3)\n",
    "g.addEdge(3,4)\n",
    "g.addEdge(4,0)\n",
    "g.addEdge(4,5)\n",
    "g.addEdge(5,5)\n",
    "print(g.DFS(0))  #[0,1,3,4,5,2]"
   ]
  },
  {
   "cell_type": "code",
   "execution_count": 10,
   "metadata": {},
   "outputs": [],
   "source": [
    "from collections import defaultdict \n",
    "\n",
    "class Graph:\n",
    "\n",
    "    def __init__(self): \n",
    "        self.graph = defaultdict(list) \n",
    "\n",
    "    def addEdge(self,u,v): \n",
    "        self.graph[u].append(v)\n",
    "          \n",
    "    def BFS(self, s): \n",
    "        print(self.graph[s][0])\n",
    "        print(self.graph[s][1])\n",
    "        print (len(self.graph[s]))\n",
    "        h = []\n",
    "        h.append(self.graph[s][0])\n",
    "        h.append(self.graph[s][1])\n",
    "        print(h)\n",
    "        print(len(self.graph))"
   ]
  },
  {
   "cell_type": "code",
   "execution_count": 17,
   "metadata": {},
   "outputs": [
    {
     "name": "stdout",
     "output_type": "stream",
     "text": [
      "0\n",
      "3\n",
      "2\n",
      "[0, 3]\n",
      "1\n"
     ]
    }
   ],
   "source": [
    "g = Graph()\n",
    "g.addEdge(2,0)\n",
    "g.addEdge(2,3)\n",
    "g.BFS(2)\n",
    "#self.graph[2]=[0,3]"
   ]
  },
  {
   "cell_type": "code",
   "execution_count": 20,
   "metadata": {},
   "outputs": [
    {
     "name": "stdout",
     "output_type": "stream",
     "text": [
      "[1, 2, 3, 'F']\n",
      "[1, 2, 3]\n"
     ]
    }
   ],
   "source": [
    "a=[1,2,3]\n",
    "a.append(\"F\")\n",
    "print(a)\n",
    "if \"F\": #第一次可以刪除，第二次沒有F就會error\n",
    "    a.remove(\"F\")\n",
    "print(a) "
   ]
  },
  {
   "cell_type": "code",
   "execution_count": 22,
   "metadata": {},
   "outputs": [
    {
     "name": "stdout",
     "output_type": "stream",
     "text": [
      "[1, 3]\n",
      "2,"
     ]
    }
   ],
   "source": [
    "a=[1,2,3]\n",
    "b = a.pop(1) #刪除的同時把那個位置的數字設為b\n",
    "print(a)     #pop後面是位子，remove後面是數值\n",
    "print(b,end=\",\")"
   ]
  },
  {
   "cell_type": "markdown",
   "metadata": {},
   "source": [
    "流程圖\n",
    "=\n",
    "\n",
    "BFS\n",
    "-\n",
    "![](https://i.imgur.com/cLmDkL8.jpg)\n",
    "\n",
    "DFS\n",
    "-\n",
    "![](https://i.imgur.com/10mqVyR.jpg)\n",
    "\n"
   ]
  },
  {
   "cell_type": "markdown",
   "metadata": {},
   "source": [
    "參考資料<br>\n",
    "https://docs.google.com/presentation/d/e/2PACX-1vSYJYXUXvGAeTZ5fknxj_-EPm3zxgy4ITdImrXzy63Y-iZgs8uwVNmOaZlnx9fUNzsbo8kphvMTa0c4/pub?start=false&loop=false&delayms=3000&slide=id.g7a5d8b85ee_0_0 #上課講義<br>\n",
    "http://alrightchiu.github.io/SecondRound/graph-breadth-first-searchbfsguang-du-you-xian-sou-xun.html #BFS<br>\n",
    "https://docs.google.com/presentation/d/e/2PACX-1vTma_vOZyE70O23KWw4I4Y78aAaT5fJSTq7Mae912kCwka_u5ZMWPoo14D86-x-57kZPbb6hAGktSW4/pub?start=false&loop=false&delayms=3000&slide=id.g7a5d8b85ee_0_0 #上課講義<br>\n",
    "http://alrightchiu.github.io/SecondRound/graph-depth-first-searchdfsshen-du-you-xian-sou-xun.html #DFS<br>\n",
    "https://magiclen.org/dfs-bfs/<br>\n",
    "https://www.shs.edu.tw/works/essay/2017/03/2017033023453259.pdf<br>"
   ]
  }
 ],
 "metadata": {
  "kernelspec": {
   "display_name": "Python 3",
   "language": "python",
   "name": "python3"
  },
  "language_info": {
   "codemirror_mode": {
    "name": "ipython",
    "version": 3
   },
   "file_extension": ".py",
   "mimetype": "text/x-python",
   "name": "python",
   "nbconvert_exporter": "python",
   "pygments_lexer": "ipython3",
   "version": "3.7.1"
  }
 },
 "nbformat": 4,
 "nbformat_minor": 2
}
