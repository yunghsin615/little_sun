{
 "cells": [
  {
   "cell_type": "markdown",
   "metadata": {},
   "source": [
    "Quick Sort\n",
    "-\n",
    "巨資三B 06170236 陳永欣"
   ]
  },
  {
   "cell_type": "markdown",
   "metadata": {},
   "source": [
    "定義\n",
    "-\n",
    "在list中選一個數字設為基準點(pivot)，比它大的放右邊，一樣的放中間，比它小的放左邊\n",
    "再從這兩堆中找基準點，一樣大的放右邊，一樣的放中間，小的放左邊，以此類推，直到剩下一個數字為止"
   ]
  },
  {
   "cell_type": "code",
   "execution_count": 2,
   "metadata": {},
   "outputs": [
    {
     "data": {
      "text/plain": [
       "[3, 3, 5, 32, 55, 244, 1000]"
      ]
     },
     "execution_count": 2,
     "metadata": {},
     "output_type": "execute_result"
    }
   ],
   "source": [
    "def quicksort(a):\n",
    "    left = []\n",
    "    right = []\n",
    "    middle = []\n",
    "    #一開始沒有想到把這個if條件句加上去\n",
    "    if len(a)>1:\n",
    "        \n",
    "        pivot = a[0] #把第0個位置設為基準點\n",
    "        for i in a:\n",
    "            if i < pivot: #小於基準點放左邊\n",
    "                left.append(i)\n",
    "            elif i == pivot: #等於基準點放中間\n",
    "                middle.append(i)\n",
    "            else: #大於基準點放右邊\n",
    "                right.append(i)\n",
    "    else: #對上第一個if\n",
    "        return a\n",
    "    #left和right還要再繼續quick_sort，不然就只有做一層而已\n",
    "    return quicksort(left) + middle + quicksort(right)\n",
    "\n",
    "a = [5,1000,3,55,32,3,244]\n",
    "quicksort(a)"
   ]
  },
  {
   "cell_type": "markdown",
   "metadata": {},
   "source": [
    "帶數字解釋\n",
    "-\n",
    "a = [5,1000,3,55,32,3,244]\n",
    "pivot = a[0]\n",
    "第一個基準點為5，比5小的3,3會加在left裡面，比5大的32,55,244,1000會加在right裡面\n",
    "而5本人就會在middle\n",
    "left=[3,3]\n",
    "middle=[5]\n",
    "right=[32,55,244,1000]\n",
    "left和right要再繼續quick sort下去，詳細步驟請見流程圖"
   ]
  }
 ],
 "metadata": {
  "kernelspec": {
   "display_name": "Python 3",
   "language": "python",
   "name": "python3"
  },
  "language_info": {
   "codemirror_mode": {
    "name": "ipython",
    "version": 3
   },
   "file_extension": ".py",
   "mimetype": "text/x-python",
   "name": "python",
   "nbconvert_exporter": "python",
   "pygments_lexer": "ipython3",
   "version": "3.7.1"
  }
 },
 "nbformat": 4,
 "nbformat_minor": 2
}
