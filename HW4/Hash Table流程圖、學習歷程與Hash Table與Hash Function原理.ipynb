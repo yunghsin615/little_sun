{
 "cells": [
  {
   "cell_type": "markdown",
   "metadata": {},
   "source": [
    "Hash Table(雜湊表)\n",
    "=\n",
    "原理<br>\n",
    "首先，將文字或數字用一個經過hash function加密轉換成一串數字或一串有英文和數字的密碼<br>\n",
    "那個函式是可以自己設計的，但這個作業我們使用現成的MD5來加密<br>\n",
    "也因為MD5的關係，先將測值轉換成十六進位，再用int變成十進位，密碼就會變成純數字了！而且同一段文字每次出來的結果會相同<br>\n",
    "再來，我的作法是將這個密碼除以要幾個抽屜，再取餘數，代表它該放進幾號抽屜<br>\n",
    "如果函式處理得好，每個抽屜放一個東西的狀態是最好的<br>\n",
    "如果有兩個密碼要放進同一個抽屜的事情發生，這叫做\"碰撞\"<br>\n",
    "最後，最重要的就是要用linked-list的方法將這些node串聯起來<br>"
   ]
  },
  {
   "cell_type": "markdown",
   "metadata": {},
   "source": [
    "Hash Function(雜湊函式)\n",
    "=\n",
    "原理<br>\n",
    "這是加密過程要經歷的過程，它將複雜的文字透過函式轉換成密碼<br>\n",
    "用甚麼國家的語言都可以，但要讓他知道是用甚麼編碼，像中文就是用utf-8<br>\n",
    "老師說這是國際通用的，各個國家互相決定的編碼<br>\n",
    "如果設計符合狀態的函式，最好的結果式每個抽屜只有一個東西<br>\n",
    "這樣remove、contains花費的時間就會比較少，因為找到抽屜，然後抽屜裡有東西，就代表找到值了<br>"
   ]
  },
  {
   "cell_type": "code",
   "execution_count": 1,
   "metadata": {},
   "outputs": [
    {
     "name": "stdout",
     "output_type": "stream",
     "text": [
      "5d41402abc4b2a76b9719d911017c592\n"
     ]
    }
   ],
   "source": [
    "#十六進位\n",
    "from Crypto.Hash import MD5\n",
    "code = MD5.new(\"hello\".encode(\"utf-8\"))\n",
    "a = code.hexdigest()\n",
    "print(a)\n",
    "#abs(a)\n",
    "#網路上查abs可以將數字絕對值和把英文拿掉，結果不行"
   ]
  },
  {
   "cell_type": "code",
   "execution_count": 3,
   "metadata": {},
   "outputs": [
    {
     "name": "stdout",
     "output_type": "stream",
     "text": [
      "123957004363873451094272536567338222994\n"
     ]
    }
   ],
   "source": [
    "#轉成十進位\n",
    "code = MD5.new(\"hello\".encode(\"utf-8\"))\n",
    "a = code.hexdigest()\n",
    "b = int(a,16)\n",
    "print(b)\n",
    "#結果轉成十進位就只剩數字了"
   ]
  },
  {
   "cell_type": "code",
   "execution_count": 4,
   "metadata": {},
   "outputs": [
    {
     "data": {
      "text/plain": [
       "123957004363873451094272536567338222994"
      ]
     },
     "execution_count": 4,
     "metadata": {},
     "output_type": "execute_result"
    }
   ],
   "source": [
    "code = MD5.new(\"hello\".encode(\"utf-8\"))\n",
    "int(code.hexdigest(),16)"
   ]
  },
  {
   "cell_type": "code",
   "execution_count": 5,
   "metadata": {},
   "outputs": [
    {
     "data": {
      "text/plain": [
       "123957004363873451094272536567338222994"
      ]
     },
     "execution_count": 5,
     "metadata": {},
     "output_type": "execute_result"
    }
   ],
   "source": [
    "int(MD5.new(\"hello\".encode(\"utf-8\")).hexdigest(),16)"
   ]
  },
  {
   "cell_type": "code",
   "execution_count": 6,
   "metadata": {},
   "outputs": [],
   "source": [
    "#11/27\n",
    "from Crypto.Hash import MD5\n",
    "\n",
    "class ListNode:\n",
    "    def __init__(self, val):\n",
    "        self.val = val\n",
    "        self.next = None\n",
    "        \n",
    "class MyHashSet:\n",
    "    def __init__(self, capacity=5):\n",
    "        self.capacity = capacity\n",
    "        self.data = [None] * capacity\n",
    "        \n",
    "    def add(self, key):\n",
    "        \n",
    "        code = MD5.new(key.encode(\"utf-8\"))\n",
    "        number = int(code.hexdigest(),16)\n",
    "        index = number % self.capacity\n",
    "        blank = self.data[index]\n",
    "        \n",
    "        if blank == None:\n",
    "            blank[0]= number #錯在用array的方式，而且也沒有建立ListNode\n",
    "        \n",
    "        n = 0\n",
    "        move = blank[n]\n",
    "        while blank != None:\n",
    "            if blank[n]:\n",
    "                move = move.next\n",
    "                movepa = move         \n",
    "                n += 1    \n",
    "            \n",
    "            else:\n",
    "                movepa.next = number\n",
    "                break\n",
    "                \n",
    "        \n",
    "        \n",
    "    def remove(self, key):\n",
    "        \"\"\"\n",
    "        :type key: int\n",
    "        :rtype: None\n",
    "        \"\"\"\n",
    "        code = MD5.new(key.encode(\"utf-8\"))\n",
    "        number = int(code.hexdigest(),16)\n",
    "        index = number % self.capacity\n",
    "        \n",
    "        if self.contains == True:\n",
    "            n = 0\n",
    "            while self.data[index] != None:\n",
    "                if self.data[index][n] == number:\n",
    "                    del self.data[index][n]\n",
    "                    self.remove(key)\n",
    "\n",
    "                elif self.data[index][n] != number:\n",
    "                    n += 1\n",
    "\n",
    "                        \n",
    "        else:\n",
    "            return False\n",
    "            \n",
    "        \n",
    "        \n",
    "    def contains(self, key):\n",
    "        \"\"\"\n",
    "        :type key: int\n",
    "        :rtype: bool(True or False)\n",
    "        \"\"\"\n",
    "        code = MD5.new(key.encode(\"utf-8\"))\n",
    "        number = int(code.hexdigest(),16)\n",
    "        index = number % self.capacity\n",
    "        \n",
    "        if self.data[index] == None:\n",
    "            return False\n",
    "        \n",
    "        n = 0\n",
    "        while self.data[index] != None:\n",
    "            if self.data[index][n] == number:\n",
    "                return True\n",
    "                break\n",
    "            \n",
    "            elif self.data[index][n] != number:\n",
    "                n += 1\n",
    "                \n",
    "                if n == len(self.data[index]):\n",
    "                    return False\n",
    "                    break\n"
   ]
  },
  {
   "cell_type": "markdown",
   "metadata": {},
   "source": [
    "11/27\n",
    "-\n",
    "其實第一次寫到之後修改，加密後取餘數之類的步驟都差不多<br>\n",
    "但中間的概念有點小錯誤，self.data[index][n]這個寫法是array的寫法，不對 好像是大錯誤<br>\n",
    "因為我以為self.data[index]是一整個抽屜可以放很多東西，所以用[n]來指定第幾個位置<br>\n",
    "後來發現它其實是用linked-list的方法再串接這些數值的，是用.next的寫法才對<br>\n",
    "好險我之前有先打過linked-list的程式碼，所以我的參考資料是我之前的歷程<br>"
   ]
  },
  {
   "cell_type": "code",
   "execution_count": 7,
   "metadata": {},
   "outputs": [],
   "source": [
    "#12/2+測試版(共三行)\n",
    "from Crypto.Hash import MD5\n",
    "\n",
    "class ListNode:\n",
    "    \n",
    "    def __init__(self, val):\n",
    "        self.val = val\n",
    "        self.next = None\n",
    "        \n",
    "class MyHashSet:\n",
    "    \n",
    "    def __init__(self, capacity=5):\n",
    "        self.capacity = capacity\n",
    "        self.data = [None] * capacity\n",
    "        \n",
    "    def add(self, key):\n",
    "        code = MD5.new(key.encode(\"utf-8\"))\n",
    "        number = int(code.hexdigest(),16)\n",
    "        index = number % self.capacity\n",
    "        blank = self.data[index]\n",
    "        \n",
    "        if blank == None:\n",
    "            blank = ListNode(number)\n",
    "            print(blank.val) #測試的程式碼其中兩行\n",
    "            print(number)    #想先確定我建ListNode的過程，密碼有沒有跑掉\n",
    "            \n",
    "        else:\n",
    "            new_node = ListNode(number)\n",
    "            new_node.next = blank\n",
    "            blank = new_node\n",
    "            print(blank.val)\n",
    "            \n",
    "         \n",
    "    def remove(self, key):\n",
    "        \n",
    "        if self.contains == True:\n",
    "            code = MD5.new(key.encode(\"utf-8\"))\n",
    "            number = int(code.hexdigest(),16)\n",
    "            index = number % self.capacity\n",
    "            blank = self.data[index]\n",
    "            \n",
    "            if blank.val == key:\n",
    "                blank = blank.next\n",
    "                return\n",
    "            \n",
    "            pointer = None\n",
    "            while blank:\n",
    "                if blank.val == key:\n",
    "                    pointer.next = blank.next\n",
    "                    \n",
    "                elif blank.val != key:\n",
    "                    pointer = blank\n",
    "                    blank = blank.next\n",
    "            \n",
    "        else:\n",
    "            return None\n",
    "        \n",
    "    def contains(self, key):\n",
    "        \n",
    "        code = MD5.new(key.encode(\"utf-8\"))\n",
    "        number = int(code.hexdigest(),16)\n",
    "        index = number % self.capacity\n",
    "        blank = self.data[index]\n",
    "        \n",
    "        if blank == None:\n",
    "            print(number) #測試的程式碼其中一行，想測試是不是跑進這個條件式中\n",
    "        \n",
    "        else:\n",
    "            while blank:\n",
    "                if blank.val == number:\n",
    "                    return True\n",
    "                \n",
    "                elif blank.val != number:\n",
    "                    blank = blank.next\n",
    "            \n",
    "                elif blank == None:\n",
    "                    return False\n",
    "    "
   ]
  },
  {
   "cell_type": "code",
   "execution_count": 8,
   "metadata": {},
   "outputs": [
    {
     "name": "stdout",
     "output_type": "stream",
     "text": [
      "328716098820163891201703637637140404312\n",
      "328716098820163891201703637637140404312\n",
      "-\n",
      "328716098820163891201703637637140404312\n"
     ]
    }
   ],
   "source": [
    "hashSet = MyHashSet()\n",
    "hashSet.add(\"pig\") #結果相同，代表blank.val=number\n",
    "print(\"-\")\n",
    "hashSet.contains(\"pig\") #跑出number，代表跑進if blank==None的條件式中"
   ]
  },
  {
   "cell_type": "code",
   "execution_count": 9,
   "metadata": {},
   "outputs": [
    {
     "name": "stdout",
     "output_type": "stream",
     "text": [
      "328716098820163891201703637637140404312\n",
      "328716098820163891201703637637140404312\n",
      "152422692699097862096121232613483897354\n",
      "152422692699097862096121232613483897354\n",
      "47015054210258555193478238898143824083\n",
      "47015054210258555193478238898143824083\n",
      "104418412497711612517225040082256448460\n",
      "104418412497711612517225040082256448460\n",
      "12329702968042761755277671529348811452\n",
      "12329702968042761755277671529348811452\n",
      "277102220249073555409885156483852860632\n",
      "277102220249073555409885156483852860632\n"
     ]
    }
   ],
   "source": [
    "#輸入6個值，所以至少會有一個index是重複的\n",
    "#但是所有結果都是兩個相同答案，代表它都是跑到if blank == None裡:(\n",
    "#所以應該是沒有加入成功\n",
    "hashSet =MyHashSet()\n",
    "hashSet.add(\"pig\")\n",
    "hashSet.add(\"pi\")\n",
    "hashSet.add(\"pg\")\n",
    "hashSet.add(\"ig\")\n",
    "hashSet.add(\"piig\")\n",
    "hashSet.add(\"cat\")"
   ]
  },
  {
   "cell_type": "code",
   "execution_count": 10,
   "metadata": {},
   "outputs": [],
   "source": [
    "#12/3\n",
    "from Crypto.Hash import MD5\n",
    "\n",
    "class ListNode:\n",
    "    def __init__(self, val):\n",
    "        self.val = val\n",
    "        self.next = None\n",
    "        \"\"\"\n",
    "        :type val: int\n",
    "        :type next: ListNode\n",
    "        :rtype: None        \n",
    "        \"\"\"\n",
    "class MyHashSet:\n",
    "    def __init__(self, capacity=5):\n",
    "        self.capacity = capacity\n",
    "        self.data = [None] * capacity\n",
    "        \"\"\"\n",
    "        :type capacity: int\n",
    "        :rtype: None\n",
    "        \"\"\"\n",
    "        \n",
    "    def add(self, key):\n",
    "        \"\"\"\n",
    "        :type key: str\n",
    "        :rtype: None\n",
    "        \"\"\"\n",
    "        number = int(MD5.new(key.encode(\"utf-8\")).hexdigest(),16)\n",
    "        index = number % self.capacity\n",
    "        \n",
    "        if self.data[index] == None:\n",
    "            self.data[index] = ListNode(number)\n",
    "            \n",
    "        else: #參考linked-list的addAtHead\n",
    "            new_node = ListNode(number)\n",
    "            new_node.next = self.data[index]\n",
    "            self.data[index] = new_node\n",
    "            \n",
    "            \n",
    "    def remove(self, key):\n",
    "        \"\"\"\n",
    "        :type key: str\n",
    "        :rtype: None\n",
    "        \"\"\"       \n",
    "        while self.contains(key) != False:\n",
    "            number = int(MD5.new(key.encode(\"utf-8\")).hexdigest(),16)\n",
    "            index = number % self.capacity\n",
    "            blank = self.data[index]\n",
    "            \n",
    "            if blank.val == number:\n",
    "                self.data[index] = blank.next\n",
    "                self.remove(key)\n",
    "                return              \n",
    "            \n",
    "            pointer = None\n",
    "            while blank: #參考linkd-list的deleteAtIndex\n",
    "                if blank.val == number and blank.next:\n",
    "                    pointer.next = blank.next\n",
    "                    break\n",
    "                \n",
    "                elif blank.val == number and blank.next is None:\n",
    "                    pointer.next = None\n",
    "                    break\n",
    "                    \n",
    "                elif blank.val != number:\n",
    "                    pointer = blank\n",
    "                    blank = blank.next\n",
    "                    \n",
    "            self.remove(key)\n",
    "            \n",
    "        if self.contains(key) == False:\n",
    "            return\n",
    "        \n",
    "        \n",
    "    def contains(self, key):\n",
    "        \"\"\"\n",
    "        :type key: str\n",
    "        :rtype: bool(True or False)\n",
    "        \"\"\"\n",
    "        number = int(MD5.new(key.encode(\"utf-8\")).hexdigest(),16)\n",
    "        index = number % self.capacity\n",
    "        blank = self.data[index]\n",
    "        \n",
    "        if blank == None:\n",
    "            return False\n",
    "        \n",
    "        else:\n",
    "            while blank:\n",
    "                if blank.val == number:\n",
    "                    return True\n",
    "                \n",
    "                elif blank.val != number:\n",
    "                    blank = blank.next\n",
    "            \n",
    "                    if blank == None:\n",
    "                        return False\n",
    "    "
   ]
  },
  {
   "cell_type": "markdown",
   "metadata": {},
   "source": [
    "12/3\n",
    "-\n",
    "後來發現我先定義blank = self.data[index]，然後讓blank跑來跑去，然後self.data[index]在原位<br>\n",
    "這樣每次在add新值的時候，它會重新跑blank = self.data[index]，那我的blank又被重新定義了<br>\n",
    "所以直接把定義拿掉，但remove和contains有使用<br>\n",
    "然後以下是各種測資<br>"
   ]
  },
  {
   "cell_type": "code",
   "execution_count": 11,
   "metadata": {},
   "outputs": [
    {
     "name": "stdout",
     "output_type": "stream",
     "text": [
      "False\n"
     ]
    }
   ],
   "source": [
    "#找不到值\n",
    "hashSet = MyHashSet()\n",
    "hashSet.add(\"pig\")\n",
    "hashSet.remove(\"cat\")\n",
    "rel = hashSet.contains(\"cat\")\n",
    "print(rel)"
   ]
  },
  {
   "cell_type": "code",
   "execution_count": 12,
   "metadata": {},
   "outputs": [
    {
     "name": "stdout",
     "output_type": "stream",
     "text": [
      "False\n"
     ]
    }
   ],
   "source": [
    "#刪self.data[index]，且後面沒有其他節點\n",
    "hashSet = MyHashSet()\n",
    "hashSet.add(\"pig\")\n",
    "hashSet.remove(\"pig\")\n",
    "rel = hashSet.contains(\"pig\")\n",
    "print(rel)"
   ]
  },
  {
   "cell_type": "code",
   "execution_count": 13,
   "metadata": {},
   "outputs": [
    {
     "name": "stdout",
     "output_type": "stream",
     "text": [
      "False\n"
     ]
    }
   ],
   "source": [
    "#刪self.data[index]，且後面有其他節點\n",
    "hashSet = MyHashSet()\n",
    "hashSet.add(\"cat\")\n",
    "hashSet.add(\"pig\")\n",
    "hashSet.remove(\"pig\")\n",
    "rel = hashSet.contains(\"pig\")\n",
    "print(rel)"
   ]
  },
  {
   "cell_type": "code",
   "execution_count": 14,
   "metadata": {},
   "outputs": [
    {
     "name": "stdout",
     "output_type": "stream",
     "text": [
      "False\n"
     ]
    }
   ],
   "source": [
    "#刪節點，且後面沒有其他節點\n",
    "hashSet = MyHashSet()\n",
    "hashSet.add(\"cat\")\n",
    "hashSet.add(\"pig\")\n",
    "hashSet.remove(\"cat\")\n",
    "rel = hashSet.contains(\"cat\")\n",
    "print(rel)"
   ]
  },
  {
   "cell_type": "code",
   "execution_count": 15,
   "metadata": {},
   "outputs": [
    {
     "name": "stdout",
     "output_type": "stream",
     "text": [
      "False\n"
     ]
    }
   ],
   "source": [
    "#刪節點，且後面有其他節點\n",
    "hashSet = MyHashSet()\n",
    "hashSet.add(\"piig\")\n",
    "hashSet.add(\"cat\")\n",
    "hashSet.add(\"pig\")\n",
    "hashSet.remove(\"cat\")\n",
    "rel = hashSet.contains(\"cat\")\n",
    "print(rel)"
   ]
  },
  {
   "cell_type": "code",
   "execution_count": 16,
   "metadata": {},
   "outputs": [
    {
     "name": "stdout",
     "output_type": "stream",
     "text": [
      "True\n",
      "False\n"
     ]
    }
   ],
   "source": [
    "#重複值在self.data[index]\n",
    "hashSet = MyHashSet()\n",
    "hashSet.add(\"pig\")\n",
    "hashSet.add(\"pig\")\n",
    "hashSet.add(\"pig\")\n",
    "rel = hashSet.contains(\"pig\")\n",
    "print(rel)\n",
    "hashSet.remove(\"pig\")\n",
    "rel = hashSet.contains(\"pig\")\n",
    "print(rel)"
   ]
  },
  {
   "cell_type": "code",
   "execution_count": 21,
   "metadata": {},
   "outputs": [
    {
     "name": "stdout",
     "output_type": "stream",
     "text": [
      "True\n",
      "False\n"
     ]
    }
   ],
   "source": [
    "#重複值在節點\n",
    "hashSet = MyHashSet()\n",
    "hashSet.add(\"cat\")\n",
    "hashSet.add(\"pig\")\n",
    "hashSet.add(\"pig\")\n",
    "hashSet.add(\"pig\")\n",
    "hashSet.add(\"cat\")\n",
    "rel = hashSet.contains(\"pig\")\n",
    "print(rel)\n",
    "hashSet.remove(\"pig\")\n",
    "rel = hashSet.contains(\"pig\")\n",
    "print(rel)"
   ]
  },
  {
   "cell_type": "code",
   "execution_count": 22,
   "metadata": {},
   "outputs": [
    {
     "name": "stdout",
     "output_type": "stream",
     "text": [
      "True\n",
      "True\n",
      "False\n",
      "True\n",
      "False\n"
     ]
    }
   ],
   "source": [
    "#助教測資\n",
    "hashSet = MyHashSet()\n",
    "hashSet.add(\"dog\")\n",
    "hashSet.add(\"pig\")\n",
    "rel = hashSet.contains(\"pig\")\n",
    "print(rel)\n",
    "rel = hashSet.contains(\"dog\")\n",
    "print(rel)\n",
    "rel = hashSet.contains(\"cat\")\n",
    "print(rel)\n",
    "hashSet.add(\"bird\")\n",
    "rel = hashSet.contains(\"bird\")\n",
    "print(rel)\n",
    "hashSet.remove(\"pig\")\n",
    "rel = hashSet.contains(\"pig\")\n",
    "print(rel)"
   ]
  },
  {
   "cell_type": "markdown",
   "metadata": {},
   "source": [
    "流程圖\n",
    "=\n",
    "![](https://i.imgur.com/PTEAuuX.jpg)\n",
    "![](https://i.imgur.com/3DOaZ5P.jpg)"
   ]
  },
  {
   "cell_type": "markdown",
   "metadata": {},
   "source": [
    "參考資料：<br>\n",
    "https://kite.com/python/examples/2084/crypto-generate-a-new-md5-hash #MD5<br>\n",
    "https://www.cs.wcupa.edu/rkline/ds/hash-sets.html #取餘數概念<br>\n",
    "https://www.runoob.com/python/func-number-abs.html #絕對值<br>\n",
    "https://blog.csdn.net/qq_40587575/article/details/82431806 #return用法<br>\n",
    "https://github.com/yunghsin615/little_sun/blob/master/LeetCode/linked_list.py #我自己的linked-list<br>"
   ]
  }
 ],
 "metadata": {
  "kernelspec": {
   "display_name": "Python 3",
   "language": "python",
   "name": "python3"
  },
  "language_info": {
   "codemirror_mode": {
    "name": "ipython",
    "version": 3
   },
   "file_extension": ".py",
   "mimetype": "text/x-python",
   "name": "python",
   "nbconvert_exporter": "python",
   "pygments_lexer": "ipython3",
   "version": "3.7.1"
  }
 },
 "nbformat": 4,
 "nbformat_minor": 2
}
